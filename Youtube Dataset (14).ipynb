{
 "cells": [
  {
   "cell_type": "code",
   "execution_count": 1,
   "id": "30bbaa20",
   "metadata": {},
   "outputs": [
    {
     "name": "stdout",
     "output_type": "stream",
     "text": [
      "C:\\Users\\ottoc\\anaconda3\\python.exe\n"
     ]
    }
   ],
   "source": [
    "import sys\n",
    "print(sys.executable)"
   ]
  },
  {
   "cell_type": "code",
   "execution_count": 2,
   "id": "a5413f86",
   "metadata": {},
   "outputs": [],
   "source": [
    "import pandas as pd\n",
    "import seaborn as sb\n",
    "import scipy.stats as stat\n",
    "import numpy as np\n",
    "from sklearn.model_selection import KFold\n",
    "from sklearn.tree import DecisionTreeClassifier\n",
    "from sklearn.model_selection import train_test_split\n",
    "from sklearn import metrics\n",
    "import statsmodels.api as sm\n",
    "import matplotlib.pyplot as plt\n",
    "from matplotlib import pyplot\n",
    "from apyori import apriori\n",
    "df = pd.read_csv(\"US_youtube_trending_data.csv\")"
   ]
  },
  {
   "cell_type": "code",
   "execution_count": 3,
   "id": "bf17e9b8",
   "metadata": {},
   "outputs": [
    {
     "name": "stdout",
     "output_type": "stream",
     "text": [
      "(106991, 16)\n"
     ]
    }
   ],
   "source": [
    "print (df.shape)"
   ]
  },
  {
   "cell_type": "code",
   "execution_count": 6,
   "id": "40a595fb",
   "metadata": {
    "scrolled": true
   },
   "outputs": [
    {
     "name": "stdout",
     "output_type": "stream",
     "text": [
      "video_id             object\n",
      "title                object\n",
      "publishedAt          object\n",
      "channelId            object\n",
      "channelTitle         object\n",
      "categoryId            int64\n",
      "trending_date        object\n",
      "tags                 object\n",
      "view_count            int64\n",
      "likes                 int64\n",
      "dislikes              int64\n",
      "comment_count         int64\n",
      "thumbnail_link       object\n",
      "comments_disabled      bool\n",
      "ratings_disabled       bool\n",
      "description          object\n",
      "dtype: object\n"
     ]
    }
   ],
   "source": [
    "print(df.dtypes)"
   ]
  },
  {
   "cell_type": "code",
   "execution_count": 6,
   "id": "9987412d",
   "metadata": {
    "scrolled": true
   },
   "outputs": [
    {
     "name": "stdout",
     "output_type": "stream",
     "text": [
      "<bound method NDFrame.describe of            video_id                                              title  \\\n",
      "0       3C66w5Z0ixs                 I ASKED HER TO BE MY GIRLFRIEND...   \n",
      "1       M9Pmf9AB4Mo  Apex Legends | Stories from the Outlands – “Th...   \n",
      "2       J78aPJ3VyNs  I left youtube for a month and THIS is what ha...   \n",
      "3       kXLn3HkpjaA  XXL 2020 Freshman Class Revealed - Official An...   \n",
      "4       VIUo6yapDbc  Ultimate DIY Home Movie Theater for The LaBran...   \n",
      "...             ...                                                ...   \n",
      "106986  OUYGtSE0a1U           P.O. Box unboxing and living room clean!   \n",
      "106987  Yov854ZT1lg                                   Starlink Mission   \n",
      "106988  OBziHxBmoHM                                 AMP SUMO WRESTLING   \n",
      "106989  Qkj2_lqa3Ng  The TILTED TOWERS Update is HERE! (Dinosaurs, ...   \n",
      "106990  1YyPPYePY9Q  NLE CHOPPA CAN REALLY HOOP! Basketball Session...   \n",
      "\n",
      "                 publishedAt                 channelId   channelTitle  \\\n",
      "0       2020-08-11T19:20:14Z  UCvtRTOMP2TqYqu51xNrqAzg       Brawadis   \n",
      "1       2020-08-11T17:00:10Z  UC0ZV6M2THA81QT9hrVWJG3A   Apex Legends   \n",
      "2       2020-08-11T16:34:06Z  UCYzPXprvl5Y-Sf0g4vX-m6g  jacksepticeye   \n",
      "3       2020-08-11T16:38:55Z  UCbg_UMjlHJg_19SZckaKajg            XXL   \n",
      "4       2020-08-11T15:10:05Z  UCDVPcEbVLQgLZX0Rt6jo34A       Mr. Kate   \n",
      "...                      ...                       ...            ...   \n",
      "106986  2022-01-20T18:13:12Z  UCBVR-W2w2rW3J6YhSutaoOQ    Maia Knight   \n",
      "106987  2022-01-19T02:16:12Z  UCtI0Hodo5o5dUb67FeUjDeA         SpaceX   \n",
      "106988  2022-01-17T23:16:42Z  UCJbYdyufHR-cxOuY96KIoqA            AMP   \n",
      "106989  2022-01-18T12:20:30Z  UC_q5WZtFp36adwqhKpZzxwQ       SypherPK   \n",
      "106990  2022-01-18T23:19:58Z  UCxEUEkp5y728nY57wg8z3dw   Tristan Jass   \n",
      "\n",
      "        categoryId         trending_date  \\\n",
      "0               22  2020-08-12T00:00:00Z   \n",
      "1               20  2020-08-12T00:00:00Z   \n",
      "2               24  2020-08-12T00:00:00Z   \n",
      "3               10  2020-08-12T00:00:00Z   \n",
      "4               26  2020-08-12T00:00:00Z   \n",
      "...            ...                   ...   \n",
      "106986          22  2022-01-24T00:00:00Z   \n",
      "106987          28  2022-01-24T00:00:00Z   \n",
      "106988          24  2022-01-24T00:00:00Z   \n",
      "106989          20  2022-01-24T00:00:00Z   \n",
      "106990          24  2022-01-24T00:00:00Z   \n",
      "\n",
      "                                                     tags  view_count   likes  \\\n",
      "0       brawadis|prank|basketball|skits|ghost|funny vi...     1514614  156908   \n",
      "1       Apex Legends|Apex Legends characters|new Apex ...     2381688  146739   \n",
      "2       jacksepticeye|funny|funny meme|memes|jacksepti...     2038853  353787   \n",
      "3       xxl freshman|xxl freshmen|2020 xxl freshman|20...      496771   23251   \n",
      "4       The LaBrant Family|DIY|Interior Design|Makeove...     1123889   45802   \n",
      "...                                                   ...         ...     ...   \n",
      "106986                                             [None]      363547   26510   \n",
      "106987       SpaceX|Space|Musk|Satellite|Mission|Starlink      499743   21559   \n",
      "106988                                             [None]     1397875   99778   \n",
      "106989  fortnite|fortnite battle royale|competitive|ga...     2485764   75290   \n",
      "106990  nle choppa|nle|nle choppa basketball|basketbal...     1193496   29234   \n",
      "\n",
      "        dislikes  comment_count  \\\n",
      "0           5855          35313   \n",
      "1           2794          16549   \n",
      "2           2628          40221   \n",
      "3           1856           7647   \n",
      "4            964           2196   \n",
      "...          ...            ...   \n",
      "106986         0            788   \n",
      "106987         0            872   \n",
      "106988         0           5088   \n",
      "106989         0           3559   \n",
      "106990         0            772   \n",
      "\n",
      "                                        thumbnail_link  comments_disabled  \\\n",
      "0       https://i.ytimg.com/vi/3C66w5Z0ixs/default.jpg              False   \n",
      "1       https://i.ytimg.com/vi/M9Pmf9AB4Mo/default.jpg              False   \n",
      "2       https://i.ytimg.com/vi/J78aPJ3VyNs/default.jpg              False   \n",
      "3       https://i.ytimg.com/vi/kXLn3HkpjaA/default.jpg              False   \n",
      "4       https://i.ytimg.com/vi/VIUo6yapDbc/default.jpg              False   \n",
      "...                                                ...                ...   \n",
      "106986  https://i.ytimg.com/vi/OUYGtSE0a1U/default.jpg              False   \n",
      "106987  https://i.ytimg.com/vi/Yov854ZT1lg/default.jpg              False   \n",
      "106988  https://i.ytimg.com/vi/OBziHxBmoHM/default.jpg              False   \n",
      "106989  https://i.ytimg.com/vi/Qkj2_lqa3Ng/default.jpg              False   \n",
      "106990  https://i.ytimg.com/vi/1YyPPYePY9Q/default.jpg              False   \n",
      "\n",
      "        ratings_disabled                                        description  \n",
      "0                  False  SUBSCRIBE to BRAWADIS ▶ http://bit.ly/Subscrib...  \n",
      "1                  False  While running her own modding shop, Ramya Pare...  \n",
      "2                  False  I left youtube for a month and this is what ha...  \n",
      "3                  False  Subscribe to XXL → http://bit.ly/subscribe-xxl...  \n",
      "4                  False  Transforming The LaBrant Family's empty white ...  \n",
      "...                  ...                                                ...  \n",
      "106986             False                                                NaN  \n",
      "106987             False  On Tuesday, January 18 at 9:02 p.m. EST, Falco...  \n",
      "106988             False  Join this channel to get access to perks:https...  \n",
      "106989             False  TILTED TOWERS is finally here in Fortnite Chap...  \n",
      "106990             False  Linked up with NLE Choppa to hoop and he was g...  \n",
      "\n",
      "[106991 rows x 16 columns]>\n"
     ]
    }
   ],
   "source": [
    "print(df.describe)"
   ]
  },
  {
   "cell_type": "code",
   "execution_count": 3,
   "id": "a5d382cd",
   "metadata": {
    "scrolled": true
   },
   "outputs": [
    {
     "name": "stdout",
     "output_type": "stream",
     "text": [
      "                                                     tags  view_count   likes  \\\n",
      "0       brawadis|prank|basketball|skits|ghost|funny vi...     1514614  156908   \n",
      "1       Apex Legends|Apex Legends characters|new Apex ...     2381688  146739   \n",
      "2       jacksepticeye|funny|funny meme|memes|jacksepti...     2038853  353787   \n",
      "3       xxl freshman|xxl freshmen|2020 xxl freshman|20...      496771   23251   \n",
      "4       The LaBrant Family|DIY|Interior Design|Makeove...     1123889   45802   \n",
      "...                                                   ...         ...     ...   \n",
      "106986                                             [None]      363547   26510   \n",
      "106987       SpaceX|Space|Musk|Satellite|Mission|Starlink      499743   21559   \n",
      "106988                                             [None]     1397875   99778   \n",
      "106989  fortnite|fortnite battle royale|competitive|ga...     2485764   75290   \n",
      "106990  nle choppa|nle|nle choppa basketball|basketbal...     1193496   29234   \n",
      "\n",
      "        dislikes  comment_count  \\\n",
      "0           5855          35313   \n",
      "1           2794          16549   \n",
      "2           2628          40221   \n",
      "3           1856           7647   \n",
      "4            964           2196   \n",
      "...          ...            ...   \n",
      "106986         0            788   \n",
      "106987         0            872   \n",
      "106988         0           5088   \n",
      "106989         0           3559   \n",
      "106990         0            772   \n",
      "\n",
      "                                              description  \n",
      "0       SUBSCRIBE to BRAWADIS ▶ http://bit.ly/Subscrib...  \n",
      "1       While running her own modding shop, Ramya Pare...  \n",
      "2       I left youtube for a month and this is what ha...  \n",
      "3       Subscribe to XXL → http://bit.ly/subscribe-xxl...  \n",
      "4       Transforming The LaBrant Family's empty white ...  \n",
      "...                                                   ...  \n",
      "106986                                                NaN  \n",
      "106987  On Tuesday, January 18 at 9:02 p.m. EST, Falco...  \n",
      "106988  Join this channel to get access to perks:https...  \n",
      "106989  TILTED TOWERS is finally here in Fortnite Chap...  \n",
      "106990  Linked up with NLE Choppa to hoop and he was g...  \n",
      "\n",
      "[106991 rows x 6 columns]\n"
     ]
    }
   ],
   "source": [
    "print(df[['tags','view_count','likes','dislikes','comment_count','description']])"
   ]
  },
  {
   "cell_type": "code",
   "execution_count": 6,
   "id": "ceafd141",
   "metadata": {
    "scrolled": true
   },
   "outputs": [
    {
     "data": {
      "text/plain": [
       "<AxesSubplot:xlabel='view_count', ylabel='likes'>"
      ]
     },
     "execution_count": 6,
     "metadata": {},
     "output_type": "execute_result"
    },
    {
     "data": {
      "image/png": "[encoded data removed]",
      "text/plain": [
       "<Figure size 432x288 with 1 Axes>"
      ]
     },
     "metadata": {
      "needs_background": "light"
     },
     "output_type": "display_data"
    }
   ],
   "source": [
    "sb.regplot(x=\"view_count\", y=\"likes\", data=df)"
   ]
  },
  {
   "cell_type": "code",
   "execution_count": 8,
   "id": "a97f496c",
   "metadata": {},
   "outputs": [
    {
     "data": {
      "text/plain": [
       "<AxesSubplot:xlabel='view_count', ylabel='dislikes'>"
      ]
     },
     "execution_count": 8,
     "metadata": {},
     "output_type": "execute_result"
    },
    {
     "data": {
      "image/png": "[encoded data removed]",
      "text/plain": [
       "<Figure size 432x288 with 1 Axes>"
      ]
     },
     "metadata": {
      "needs_background": "light"
     },
     "output_type": "display_data"
    }
   ],
   "source": [
    "sb.regplot(x=\"view_count\", y=\"dislikes\", data=df)"
   ]
  },
  {
   "cell_type": "code",
   "execution_count": 9,
   "id": "de1a988d",
   "metadata": {},
   "outputs": [
    {
     "data": {
      "text/plain": [
       "<AxesSubplot:xlabel='likes', ylabel='dislikes'>"
      ]
     },
     "execution_count": 9,
     "metadata": {},
     "output_type": "execute_result"
    },
    {
     "data": {
      "image/png": "[encoded data removed]",
      "text/plain": [
       "<Figure size 432x288 with 1 Axes>"
      ]
     },
     "metadata": {
      "needs_background": "light"
     },
     "output_type": "display_data"
    }
   ],
   "source": [
    "sb.regplot(x=\"likes\", y=\"dislikes\", data=df)"
   ]
  },
  {
   "cell_type": "code",
   "execution_count": 10,
   "id": "055ebe8c",
   "metadata": {},
   "outputs": [
    {
     "data": {
      "text/plain": [
       "<AxesSubplot:xlabel='view_count', ylabel='comment_count'>"
      ]
     },
     "execution_count": 10,
     "metadata": {},
     "output_type": "execute_result"
    },
    {
     "data": {
      "image/png": "[encoded data removed]",
      "text/plain": [
       "<Figure size 432x288 with 1 Axes>"
      ]
     },
     "metadata": {
      "needs_background": "light"
     },
     "output_type": "display_data"
    }
   ],
   "source": [
    "sb.regplot(x=\"view_count\", y=\"comment_count\", data=df)"
   ]
  },
  {
   "cell_type": "code",
   "execution_count": 10,
   "id": "584c8c4b",
   "metadata": {},
   "outputs": [
    {
     "name": "stdout",
     "output_type": "stream",
     "text": [
      "                                                    title   likes  dislikes\n",
      "0                      I ASKED HER TO BE MY GIRLFRIEND...  156908      5855\n",
      "1       Apex Legends | Stories from the Outlands – “Th...  146739      2794\n",
      "2       I left youtube for a month and THIS is what ha...  353787      2628\n",
      "3       XXL 2020 Freshman Class Revealed - Official An...   23251      1856\n",
      "4       Ultimate DIY Home Movie Theater for The LaBran...   45802       964\n",
      "...                                                   ...     ...       ...\n",
      "106986           P.O. Box unboxing and living room clean!   26510         0\n",
      "106987                                   Starlink Mission   21559         0\n",
      "106988                                 AMP SUMO WRESTLING   99778         0\n",
      "106989  The TILTED TOWERS Update is HERE! (Dinosaurs, ...   75290         0\n",
      "106990  NLE CHOPPA CAN REALLY HOOP! Basketball Session...   29234         0\n",
      "\n",
      "[106991 rows x 3 columns]\n"
     ]
    }
   ],
   "source": [
    "print(df[['title','likes','dislikes']])"
   ]
  },
  {
   "cell_type": "code",
   "execution_count": 5,
   "id": "845202e1",
   "metadata": {},
   "outputs": [
    {
     "name": "stdout",
     "output_type": "stream",
     "text": [
      "        comment_count  view_count\n",
      "0               35313     1514614\n",
      "1               16549     2381688\n",
      "2               40221     2038853\n",
      "3                7647      496771\n",
      "4                2196     1123889\n",
      "...               ...         ...\n",
      "106986            788      363547\n",
      "106987            872      499743\n",
      "106988           5088     1397875\n",
      "106989           3559     2485764\n",
      "106990            772     1193496\n",
      "\n",
      "[106991 rows x 2 columns]\n",
      "Empty DataFrame\n",
      "Columns: [video_id, title, publishedAt, channelId, channelTitle, categoryId, trending_date, tags, view_count, likes, dislikes, comment_count, thumbnail_link, comments_disabled, ratings_disabled, description]\n",
      "Index: []\n"
     ]
    }
   ],
   "source": [
    "ndf=df[df[\"comment_count\"]==\"0\"]\n",
    "df.drop(ndf.index,axis=0,inplace=True)\n",
    "print(df[['comment_count','view_count']])\n",
    "print(ndf)"
   ]
  },
  {
   "cell_type": "code",
   "execution_count": 7,
   "id": "1e5680cf",
   "metadata": {},
   "outputs": [
    {
     "name": "stdout",
     "output_type": "stream",
     "text": [
      "0         3C66w5Z0ixs\n",
      "1         M9Pmf9AB4Mo\n",
      "2         J78aPJ3VyNs\n",
      "3         kXLn3HkpjaA\n",
      "4         VIUo6yapDbc\n",
      "             ...     \n",
      "106986    OUYGtSE0a1U\n",
      "106987    Yov854ZT1lg\n",
      "106988    OBziHxBmoHM\n",
      "106989    Qkj2_lqa3Ng\n",
      "106990    1YyPPYePY9Q\n",
      "Name: video_id, Length: 106991, dtype: object\n"
     ]
    }
   ],
   "source": [
    "print(df.iloc[:,0])"
   ]
  },
  {
   "cell_type": "code",
   "execution_count": 11,
   "id": "d06264c2",
   "metadata": {},
   "outputs": [
    {
     "data": {
      "image/png": "[encoded data removed]",
      "text/plain": [
       "<Figure size 432x288 with 1 Axes>"
      ]
     },
     "metadata": {
      "needs_background": "light"
     },
     "output_type": "display_data"
    }
   ],
   "source": [
    "df.plot(x='view_count', y='likes', style='o')\n",
    "plt.title('Likes Based on View Count ')\n",
    "plt.xlabel('Total Views')\n",
    "plt.ylabel('Likes Per Video')\n",
    "plt.show()\n",
    "#Plotting view count and likes"
   ]
  },
  {
   "cell_type": "code",
   "execution_count": 6,
   "id": "34897cac",
   "metadata": {},
   "outputs": [
    {
     "data": {
      "image/png": "[encoded data removed]",
      "text/plain": [
       "<Figure size 432x288 with 1 Axes>"
      ]
     },
     "metadata": {
      "needs_background": "light"
     },
     "output_type": "display_data"
    }
   ],
   "source": [
    "df.plot(x='view_count', y='comment_count', style='o')\n",
    "plt.title('Comments Based on View Count ')\n",
    "plt.xlabel('Total Views')\n",
    "plt.ylabel('Comments Per Video')\n",
    "plt.show()"
   ]
  },
  {
   "cell_type": "code",
   "execution_count": 212,
   "id": "2575dc12",
   "metadata": {},
   "outputs": [
    {
     "data": {
      "image/png": "[encoded data removed]",
      "text/plain": [
       "<Figure size 432x288 with 1 Axes>"
      ]
     },
     "metadata": {
      "needs_background": "light"
     },
     "output_type": "display_data"
    }
   ],
   "source": [
    "df.plot(x='view_count', y='dislikes', style='o')\n",
    "plt.title('Comments Based on View Count ')\n",
    "plt.xlabel('Total Views')\n",
    "plt.ylabel('Dislikes Per Video')\n",
    "plt.show()"
   ]
  },
  {
   "cell_type": "code",
   "execution_count": 42,
   "id": "0b09db77",
   "metadata": {},
   "outputs": [],
   "source": [
    "import matplotlib.pyplot as plt\n",
    "import pandas as pd\n",
    "import pylab as pl\n",
    "import numpy as np\n",
    "%matplotlib inline"
   ]
  },
  {
   "cell_type": "code",
   "execution_count": 69,
   "id": "3543ae50",
   "metadata": {
    "scrolled": false
   },
   "outputs": [
    {
     "data": {
      "text/html": [
       "<div>\n",
       "<style scoped>\n",
       "    .dataframe tbody tr th:only-of-type {\n",
       "        vertical-align: middle;\n",
       "    }\n",
       "\n",
       "    .dataframe tbody tr th {\n",
       "        vertical-align: top;\n",
       "    }\n",
       "\n",
       "    .dataframe thead th {\n",
       "        text-align: right;\n",
       "    }\n",
       "</style>\n",
       "<table border=\"1\" class=\"dataframe\">\n",
       "  <thead>\n",
       "    <tr style=\"text-align: right;\">\n",
       "      <th></th>\n",
       "      <th>video_id</th>\n",
       "      <th>title</th>\n",
       "      <th>publishedAt</th>\n",
       "      <th>channelId</th>\n",
       "      <th>channelTitle</th>\n",
       "      <th>categoryId</th>\n",
       "      <th>trending_date</th>\n",
       "      <th>tags</th>\n",
       "      <th>view_count</th>\n",
       "      <th>likes</th>\n",
       "      <th>dislikes</th>\n",
       "      <th>comment_count</th>\n",
       "      <th>thumbnail_link</th>\n",
       "      <th>comments_disabled</th>\n",
       "      <th>ratings_disabled</th>\n",
       "      <th>description</th>\n",
       "    </tr>\n",
       "  </thead>\n",
       "  <tbody>\n",
       "    <tr>\n",
       "      <th>0</th>\n",
       "      <td>video_id</td>\n",
       "      <td>title</td>\n",
       "      <td>publishedAt</td>\n",
       "      <td>channelId</td>\n",
       "      <td>channelTitle</td>\n",
       "      <td>categoryId</td>\n",
       "      <td>trending_date</td>\n",
       "      <td>tags</td>\n",
       "      <td>NaN</td>\n",
       "      <td>likes</td>\n",
       "      <td>dislikes</td>\n",
       "      <td>comment_count</td>\n",
       "      <td>thumbnail_link</td>\n",
       "      <td>comments_disabled</td>\n",
       "      <td>ratings_disabled</td>\n",
       "      <td>description</td>\n",
       "    </tr>\n",
       "    <tr>\n",
       "      <th>1</th>\n",
       "      <td>3C66w5Z0ixs</td>\n",
       "      <td>I ASKED HER TO BE MY GIRLFRIEND...</td>\n",
       "      <td>2020-08-11T19:20:14Z</td>\n",
       "      <td>UCvtRTOMP2TqYqu51xNrqAzg</td>\n",
       "      <td>Brawadis</td>\n",
       "      <td>22</td>\n",
       "      <td>2020-08-12T00:00:00Z</td>\n",
       "      <td>brawadis|prank|basketball|skits|ghost|funny vi...</td>\n",
       "      <td>1514614.0</td>\n",
       "      <td>156908</td>\n",
       "      <td>5855</td>\n",
       "      <td>35313</td>\n",
       "      <td>https://i.ytimg.com/vi/3C66w5Z0ixs/default.jpg</td>\n",
       "      <td>False</td>\n",
       "      <td>False</td>\n",
       "      <td>SUBSCRIBE to BRAWADIS ▶ http://bit.ly/Subscrib...</td>\n",
       "    </tr>\n",
       "    <tr>\n",
       "      <th>2</th>\n",
       "      <td>M9Pmf9AB4Mo</td>\n",
       "      <td>Apex Legends | Stories from the Outlands – “Th...</td>\n",
       "      <td>2020-08-11T17:00:10Z</td>\n",
       "      <td>UC0ZV6M2THA81QT9hrVWJG3A</td>\n",
       "      <td>Apex Legends</td>\n",
       "      <td>20</td>\n",
       "      <td>2020-08-12T00:00:00Z</td>\n",
       "      <td>Apex Legends|Apex Legends characters|new Apex ...</td>\n",
       "      <td>2381688.0</td>\n",
       "      <td>146739</td>\n",
       "      <td>2794</td>\n",
       "      <td>16549</td>\n",
       "      <td>https://i.ytimg.com/vi/M9Pmf9AB4Mo/default.jpg</td>\n",
       "      <td>False</td>\n",
       "      <td>False</td>\n",
       "      <td>While running her own modding shop, Ramya Pare...</td>\n",
       "    </tr>\n",
       "    <tr>\n",
       "      <th>3</th>\n",
       "      <td>J78aPJ3VyNs</td>\n",
       "      <td>I left youtube for a month and THIS is what ha...</td>\n",
       "      <td>2020-08-11T16:34:06Z</td>\n",
       "      <td>UCYzPXprvl5Y-Sf0g4vX-m6g</td>\n",
       "      <td>jacksepticeye</td>\n",
       "      <td>24</td>\n",
       "      <td>2020-08-12T00:00:00Z</td>\n",
       "      <td>jacksepticeye|funny|funny meme|memes|jacksepti...</td>\n",
       "      <td>2038853.0</td>\n",
       "      <td>353787</td>\n",
       "      <td>2628</td>\n",
       "      <td>40221</td>\n",
       "      <td>https://i.ytimg.com/vi/J78aPJ3VyNs/default.jpg</td>\n",
       "      <td>False</td>\n",
       "      <td>False</td>\n",
       "      <td>I left youtube for a month and this is what ha...</td>\n",
       "    </tr>\n",
       "    <tr>\n",
       "      <th>4</th>\n",
       "      <td>kXLn3HkpjaA</td>\n",
       "      <td>XXL 2020 Freshman Class Revealed - Official An...</td>\n",
       "      <td>2020-08-11T16:38:55Z</td>\n",
       "      <td>UCbg_UMjlHJg_19SZckaKajg</td>\n",
       "      <td>XXL</td>\n",
       "      <td>10</td>\n",
       "      <td>2020-08-12T00:00:00Z</td>\n",
       "      <td>xxl freshman|xxl freshmen|2020 xxl freshman|20...</td>\n",
       "      <td>496771.0</td>\n",
       "      <td>23251</td>\n",
       "      <td>1856</td>\n",
       "      <td>7647</td>\n",
       "      <td>https://i.ytimg.com/vi/kXLn3HkpjaA/default.jpg</td>\n",
       "      <td>False</td>\n",
       "      <td>False</td>\n",
       "      <td>Subscribe to XXL → http://bit.ly/subscribe-xxl...</td>\n",
       "    </tr>\n",
       "  </tbody>\n",
       "</table>\n",
       "</div>"
      ],
      "text/plain": [
       "      video_id                                              title  \\\n",
       "0     video_id                                              title   \n",
       "1  3C66w5Z0ixs                 I ASKED HER TO BE MY GIRLFRIEND...   \n",
       "2  M9Pmf9AB4Mo  Apex Legends | Stories from the Outlands – “Th...   \n",
       "3  J78aPJ3VyNs  I left youtube for a month and THIS is what ha...   \n",
       "4  kXLn3HkpjaA  XXL 2020 Freshman Class Revealed - Official An...   \n",
       "\n",
       "            publishedAt                 channelId   channelTitle  categoryId  \\\n",
       "0           publishedAt                 channelId   channelTitle  categoryId   \n",
       "1  2020-08-11T19:20:14Z  UCvtRTOMP2TqYqu51xNrqAzg       Brawadis          22   \n",
       "2  2020-08-11T17:00:10Z  UC0ZV6M2THA81QT9hrVWJG3A   Apex Legends          20   \n",
       "3  2020-08-11T16:34:06Z  UCYzPXprvl5Y-Sf0g4vX-m6g  jacksepticeye          24   \n",
       "4  2020-08-11T16:38:55Z  UCbg_UMjlHJg_19SZckaKajg            XXL          10   \n",
       "\n",
       "          trending_date                                               tags  \\\n",
       "0         trending_date                                               tags   \n",
       "1  2020-08-12T00:00:00Z  brawadis|prank|basketball|skits|ghost|funny vi...   \n",
       "2  2020-08-12T00:00:00Z  Apex Legends|Apex Legends characters|new Apex ...   \n",
       "3  2020-08-12T00:00:00Z  jacksepticeye|funny|funny meme|memes|jacksepti...   \n",
       "4  2020-08-12T00:00:00Z  xxl freshman|xxl freshmen|2020 xxl freshman|20...   \n",
       "\n",
       "   view_count   likes  dislikes  comment_count  \\\n",
       "0         NaN   likes  dislikes  comment_count   \n",
       "1   1514614.0  156908      5855          35313   \n",
       "2   2381688.0  146739      2794          16549   \n",
       "3   2038853.0  353787      2628          40221   \n",
       "4    496771.0   23251      1856           7647   \n",
       "\n",
       "                                   thumbnail_link  comments_disabled  \\\n",
       "0                                  thumbnail_link  comments_disabled   \n",
       "1  https://i.ytimg.com/vi/3C66w5Z0ixs/default.jpg              False   \n",
       "2  https://i.ytimg.com/vi/M9Pmf9AB4Mo/default.jpg              False   \n",
       "3  https://i.ytimg.com/vi/J78aPJ3VyNs/default.jpg              False   \n",
       "4  https://i.ytimg.com/vi/kXLn3HkpjaA/default.jpg              False   \n",
       "\n",
       "   ratings_disabled                                        description  \n",
       "0  ratings_disabled                                        description  \n",
       "1             False  SUBSCRIBE to BRAWADIS ▶ http://bit.ly/Subscrib...  \n",
       "2             False  While running her own modding shop, Ramya Pare...  \n",
       "3             False  I left youtube for a month and this is what ha...  \n",
       "4             False  Subscribe to XXL → http://bit.ly/subscribe-xxl...  "
      ]
     },
     "execution_count": 69,
     "metadata": {},
     "output_type": "execute_result"
    }
   ],
   "source": [
    "df.head()"
   ]
  },
  {
   "cell_type": "code",
   "execution_count": 61,
   "id": "7e651c1c",
   "metadata": {},
   "outputs": [
    {
     "data": {
      "text/html": [
       "<div>\n",
       "<style scoped>\n",
       "    .dataframe tbody tr th:only-of-type {\n",
       "        vertical-align: middle;\n",
       "    }\n",
       "\n",
       "    .dataframe tbody tr th {\n",
       "        vertical-align: top;\n",
       "    }\n",
       "\n",
       "    .dataframe thead th {\n",
       "        text-align: right;\n",
       "    }\n",
       "</style>\n",
       "<table border=\"1\" class=\"dataframe\">\n",
       "  <thead>\n",
       "    <tr style=\"text-align: right;\">\n",
       "      <th></th>\n",
       "      <th>view_count</th>\n",
       "      <th>likes</th>\n",
       "      <th>dislikes</th>\n",
       "      <th>comment_count</th>\n",
       "    </tr>\n",
       "  </thead>\n",
       "  <tbody>\n",
       "    <tr>\n",
       "      <th>0</th>\n",
       "      <td>NaN</td>\n",
       "      <td>likes</td>\n",
       "      <td>dislikes</td>\n",
       "      <td>comment_count</td>\n",
       "    </tr>\n",
       "    <tr>\n",
       "      <th>1</th>\n",
       "      <td>1514614.0</td>\n",
       "      <td>156908</td>\n",
       "      <td>5855</td>\n",
       "      <td>35313</td>\n",
       "    </tr>\n",
       "    <tr>\n",
       "      <th>2</th>\n",
       "      <td>2381688.0</td>\n",
       "      <td>146739</td>\n",
       "      <td>2794</td>\n",
       "      <td>16549</td>\n",
       "    </tr>\n",
       "    <tr>\n",
       "      <th>3</th>\n",
       "      <td>2038853.0</td>\n",
       "      <td>353787</td>\n",
       "      <td>2628</td>\n",
       "      <td>40221</td>\n",
       "    </tr>\n",
       "    <tr>\n",
       "      <th>4</th>\n",
       "      <td>496771.0</td>\n",
       "      <td>23251</td>\n",
       "      <td>1856</td>\n",
       "      <td>7647</td>\n",
       "    </tr>\n",
       "    <tr>\n",
       "      <th>5</th>\n",
       "      <td>1123889.0</td>\n",
       "      <td>45802</td>\n",
       "      <td>964</td>\n",
       "      <td>2196</td>\n",
       "    </tr>\n",
       "    <tr>\n",
       "      <th>6</th>\n",
       "      <td>949491.0</td>\n",
       "      <td>77487</td>\n",
       "      <td>746</td>\n",
       "      <td>7506</td>\n",
       "    </tr>\n",
       "    <tr>\n",
       "      <th>7</th>\n",
       "      <td>470446.0</td>\n",
       "      <td>47990</td>\n",
       "      <td>440</td>\n",
       "      <td>4558</td>\n",
       "    </tr>\n",
       "    <tr>\n",
       "      <th>8</th>\n",
       "      <td>1050143.0</td>\n",
       "      <td>89190</td>\n",
       "      <td>854</td>\n",
       "      <td>6455</td>\n",
       "    </tr>\n",
       "  </tbody>\n",
       "</table>\n",
       "</div>"
      ],
      "text/plain": [
       "   view_count   likes  dislikes  comment_count\n",
       "0         NaN   likes  dislikes  comment_count\n",
       "1   1514614.0  156908      5855          35313\n",
       "2   2381688.0  146739      2794          16549\n",
       "3   2038853.0  353787      2628          40221\n",
       "4    496771.0   23251      1856           7647\n",
       "5   1123889.0   45802       964           2196\n",
       "6    949491.0   77487       746           7506\n",
       "7    470446.0   47990       440           4558\n",
       "8   1050143.0   89190       854           6455"
      ]
     },
     "execution_count": 61,
     "metadata": {},
     "output_type": "execute_result"
    }
   ],
   "source": [
    "cdf = df[['view_count','likes','dislikes','comment_count']]\n",
    "cdf.head(9)"
   ]
  },
  {
   "cell_type": "code",
   "execution_count": 22,
   "id": "f4f1e346",
   "metadata": {},
   "outputs": [
    {
     "name": "stdout",
     "output_type": "stream",
     "text": [
      "R squared: 75.52\n",
      "Mean Absolute Error: 1228016.848524706\n",
      "Mean Square Error: 10311401686682.273\n",
      "Root Mean Square Error: 3211137.1329611996\n"
     ]
    }
   ],
   "source": [
    "#Getting the overall evaluation of the data\n",
    "from sklearn import metrics\n",
    "meanAbErr = metrics.mean_absolute_error(y_test, y_pred_mlr)\n",
    "meanSqErr = metrics.mean_squared_error(y_test, y_pred_mlr)\n",
    "rootMeanSqErr = np.sqrt(metrics.mean_squared_error(y_test, y_pred_mlr))\n",
    "print('R squared: {:.2f}'.format(mlr.score(x,y)*100))\n",
    "print('Mean Absolute Error:', meanAbErr)\n",
    "print('Mean Square Error:', meanSqErr)\n",
    "print('Root Mean Square Error:', rootMeanSqErr)"
   ]
  },
  {
   "cell_type": "code",
   "execution_count": 12,
   "id": "dc7f7550",
   "metadata": {},
   "outputs": [
    {
     "data": {
      "text/plain": [
       "(100, 16)"
      ]
     },
     "execution_count": 12,
     "metadata": {},
     "output_type": "execute_result"
    }
   ],
   "source": [
    "subset=df.sample(n=100)\n",
    "subset.shape"
   ]
  },
  {
   "cell_type": "code",
   "execution_count": 71,
   "id": "07dada18",
   "metadata": {},
   "outputs": [
    {
     "data": {
      "text/plain": [
       "\"\\nBelow are the codes to the r code wordclouds I have developed with the Descriptions, Titles, and Tags. I added the Titles and Tags since I figured it wouldn't hurt to have them in a wordcloud as well.\\n\""
      ]
     },
     "execution_count": 71,
     "metadata": {},
     "output_type": "execute_result"
    }
   ],
   "source": [
    "'''\n",
    "Below are the codes to the r code wordclouds I have developed with the Descriptions, Titles, and Tags. I added the Titles and Tags since I figured it wouldn't hurt to have them in a wordcloud as well.\n",
    "'''"
   ]
  },
  {
   "cell_type": "code",
   "execution_count": 72,
   "id": "e1f10583",
   "metadata": {},
   "outputs": [],
   "source": [
    "from IPython.display import Image"
   ]
  },
  {
   "cell_type": "code",
   "execution_count": null,
   "id": "e5152d65",
   "metadata": {},
   "outputs": [],
   "source": [
    "'''\n",
    "install.packages(\"wordcloud\")\n",
    "library(wordcloud)\n",
    "install.packages(\"tm\")\n",
    "library(tm)\n",
    "Tags=\"C:\\\\input_files\\\\Tags\"\n",
    "Tags1=list.files(Tags)\n",
    "Tags2=paste(Title,\"\\\\\",Tags1,sep=\"\")\n",
    "Tags.corpus=lapply(Tags2,FUN=readLines)\n",
    "Tags2=paste(Tags,\"\\\\\",Tags1,sep=\"\")\n",
    "Tags.corpus=lapply(Tags2,FUN=readLines)\n",
    "Tags.corpus2=lapply(Tags.corpus, FUN=paste,collapse=\" \")\n",
    "Tags.corpus3=gsub(pattern=\"\\\\W\",replace=\" \",Tags.corpus2)\n",
    "Tags.corpus4=gsub(pattern = \"\\\\d\",replace=\" \",Tags.corpus3)\n",
    "Tags.corpus5=tolower(Tags.corpus4)\n",
    "Tags.corpus6=removeWords(Tags.corpus5,stopwords())\n",
    "Tags.corpus7=gsub(pattern=\"\\\\b[A-z]\\\\b{1}\",replace=\" \",Tags.corpus6)\n",
    "Tags.corpus8=stripWhitespace(Tags.corpus7)\n",
    "wordcloud(Tags.corpus8,min.freq = 25,random.order=FALSE)\n",
    "'''"
   ]
  },
  {
   "cell_type": "code",
   "execution_count": 76,
   "id": "d5c8ccbf",
   "metadata": {},
   "outputs": [
    {
     "data": {
      "image/png": "[encoded data removed]",
      "text/plain": [
       "<IPython.core.display.Image object>"
      ]
     },
     "execution_count": 76,
     "metadata": {},
     "output_type": "execute_result"
    }
   ],
   "source": [
    "fig = Image(filename=('C:\\input_files\\WordTags.png'))\n",
    "fig"
   ]
  },
  {
   "cell_type": "code",
   "execution_count": null,
   "id": "18458198",
   "metadata": {},
   "outputs": [],
   "source": [
    "'''\n",
    "install.packages(\"wordcloud\")\n",
    "library(wordcloud)\n",
    "install.packages(\"tm\")\n",
    "library(tm)\n",
    "Title=\"C:\\\\input_files\\\\Titles\"\n",
    "Title1=list.files(Title)\n",
    "Title2=paste(Title,\"\\\\\",Title1,sep=\"\")\n",
    "Title.corpus=lapply(Title2,FUN=readLines)\n",
    "Title.corpus2=lapply(Title.corpus, FUN=paste,collapse=\" \")\n",
    "Title.corpus3=gsub(pattern=\"\\\\W\",replace=\" \",Title.corpus2)\n",
    "Title.corpus4=gsub(pattern = \"\\\\d\",replace=\" \",Title.corpus3)\n",
    "Title.corpus5=tolower(Title.corpus4)\n",
    "Title.corpus6=removeWords(Title.corpus5,stopwords())\n",
    "Title.corpus7=gsub(pattern=\"\\\\b[A-z]\\\\b{1}\",replace=\" \",Title.corpus6)\n",
    "Title.corpus8=stripWhitespace(Title.corpus7)\n",
    "wordcloud(Title.corpus8,min.freq = 25,random.order=FALSE)\n",
    "'''"
   ]
  },
  {
   "cell_type": "code",
   "execution_count": 78,
   "id": "6ca13ed5",
   "metadata": {},
   "outputs": [
    {
     "data": {
      "image/png": "[encoded data removed]",
      "text/plain": [
       "<IPython.core.display.Image object>"
      ]
     },
     "execution_count": 78,
     "metadata": {},
     "output_type": "execute_result"
    }
   ],
   "source": [
    "fig1 = Image(filename=('C:\\input_files\\WordTitles.png'))\n",
    "fig1"
   ]
  },
  {
   "cell_type": "code",
   "execution_count": null,
   "id": "073e47e3",
   "metadata": {},
   "outputs": [],
   "source": [
    "'''\n",
    "install.packages(\"wordcloud\")\n",
    "library(wordcloud)\n",
    "install.packages(\"tm\")\n",
    "library(tm)\n",
    "Description=\"C:\\\\input_files\\\\Descript\"\n",
    "Description1=list.files(Description)\n",
    "Description2=paste(Description,\"\\\\\",Description1,sep=\"\")\n",
    "save.image(\"C:\\\\input_files\\\\Description Code\")\n",
    "Description.corpus=lapply(Description2,FUN=readLines)\n",
    "Description.corpus2=lapply(Description.corpus, FUN=paste,collapse=\" \")\n",
    "Description.corpus3=gsub(pattern=\"\\\\W\",replace=\" \",Description.corpus2)\n",
    "Description.corpus4=gsub(pattern = \"\\\\d\",replace=\" \",Description.corpus3)\n",
    "Description.corpus5=tolower(Description.corpus4)\n",
    "Description.corpus6=removeWords(Description.corpus5,stopwords())\n",
    "Description.corpus7=gsub(pattern=\"\\\\b[A-z]\\\\b{1}\",replace=\" \",Description.corpus6)\n",
    "Description.corpus8=stripWhitespace(Description.corpus7)\n",
    "wordcloud(Description.corpus8,min.freq = 25,random.order=FALSE)\n",
    "Description.corpus9=removeWords(Description.corpus8,c(\"https\",\"com\",\"www\",\"youtube\"))\n",
    "wordcloud(Description.corpus9,min.freq = 25,random.order=FALSE)\n",
    "Description.corpus10=removeWords(Description.corpus9,c(\"http\",\"subscribe\"))\n",
    "wordcloud(Description.corpus10,min.freq = 25,random.order=FALSE)\n",
    "'''"
   ]
  },
  {
   "cell_type": "code",
   "execution_count": 80,
   "id": "390dcf25",
   "metadata": {},
   "outputs": [
    {
     "data": {
      "image/png": "[encoded data removed]",
      "text/plain": [
       "<IPython.core.display.Image object>"
      ]
     },
     "execution_count": 80,
     "metadata": {},
     "output_type": "execute_result"
    }
   ],
   "source": [
    "fig2 = Image(filename=('C:\\input_files\\WordDescription.png'))\n",
    "fig2"
   ]
  },
  {
   "cell_type": "code",
   "execution_count": 185,
   "id": "1c9e6e45",
   "metadata": {},
   "outputs": [],
   "source": [
    "import random \n",
    "import numpy as np \n",
    "import matplotlib.pyplot as plt \n",
    "from sklearn.cluster import KMeans\n",
    "%matplotlib inline"
   ]
  },
  {
   "cell_type": "code",
   "execution_count": 196,
   "id": "69d9f4f7",
   "metadata": {},
   "outputs": [
    {
     "data": {
      "text/html": [
       "<div>\n",
       "<style scoped>\n",
       "    .dataframe tbody tr th:only-of-type {\n",
       "        vertical-align: middle;\n",
       "    }\n",
       "\n",
       "    .dataframe tbody tr th {\n",
       "        vertical-align: top;\n",
       "    }\n",
       "\n",
       "    .dataframe thead th {\n",
       "        text-align: right;\n",
       "    }\n",
       "</style>\n",
       "<table border=\"1\" class=\"dataframe\">\n",
       "  <thead>\n",
       "    <tr style=\"text-align: right;\">\n",
       "      <th></th>\n",
       "      <th>title</th>\n",
       "      <th>tags</th>\n",
       "      <th>description</th>\n",
       "    </tr>\n",
       "  </thead>\n",
       "  <tbody>\n",
       "    <tr>\n",
       "      <th>0</th>\n",
       "      <td>I ASKED HER TO BE MY GIRLFRIEND...</td>\n",
       "      <td>brawadis|prank|basketball|skits|ghost|funny vi...</td>\n",
       "      <td>SUBSCRIBE to BRAWADIS ▶ http://bit.ly/Subscrib...</td>\n",
       "    </tr>\n",
       "    <tr>\n",
       "      <th>1</th>\n",
       "      <td>Apex Legends | Stories from the Outlands – “Th...</td>\n",
       "      <td>Apex Legends|Apex Legends characters|new Apex ...</td>\n",
       "      <td>While running her own modding shop, Ramya Pare...</td>\n",
       "    </tr>\n",
       "    <tr>\n",
       "      <th>2</th>\n",
       "      <td>I left youtube for a month and THIS is what ha...</td>\n",
       "      <td>jacksepticeye|funny|funny meme|memes|jacksepti...</td>\n",
       "      <td>I left youtube for a month and this is what ha...</td>\n",
       "    </tr>\n",
       "    <tr>\n",
       "      <th>3</th>\n",
       "      <td>XXL 2020 Freshman Class Revealed - Official An...</td>\n",
       "      <td>xxl freshman|xxl freshmen|2020 xxl freshman|20...</td>\n",
       "      <td>Subscribe to XXL → http://bit.ly/subscribe-xxl...</td>\n",
       "    </tr>\n",
       "    <tr>\n",
       "      <th>4</th>\n",
       "      <td>Ultimate DIY Home Movie Theater for The LaBran...</td>\n",
       "      <td>The LaBrant Family|DIY|Interior Design|Makeove...</td>\n",
       "      <td>Transforming The LaBrant Family's empty white ...</td>\n",
       "    </tr>\n",
       "  </tbody>\n",
       "</table>\n",
       "</div>"
      ],
      "text/plain": [
       "                                               title  \\\n",
       "0                 I ASKED HER TO BE MY GIRLFRIEND...   \n",
       "1  Apex Legends | Stories from the Outlands – “Th...   \n",
       "2  I left youtube for a month and THIS is what ha...   \n",
       "3  XXL 2020 Freshman Class Revealed - Official An...   \n",
       "4  Ultimate DIY Home Movie Theater for The LaBran...   \n",
       "\n",
       "                                                tags  \\\n",
       "0  brawadis|prank|basketball|skits|ghost|funny vi...   \n",
       "1  Apex Legends|Apex Legends characters|new Apex ...   \n",
       "2  jacksepticeye|funny|funny meme|memes|jacksepti...   \n",
       "3  xxl freshman|xxl freshmen|2020 xxl freshman|20...   \n",
       "4  The LaBrant Family|DIY|Interior Design|Makeove...   \n",
       "\n",
       "                                         description  \n",
       "0  SUBSCRIBE to BRAWADIS ▶ http://bit.ly/Subscrib...  \n",
       "1  While running her own modding shop, Ramya Pare...  \n",
       "2  I left youtube for a month and this is what ha...  \n",
       "3  Subscribe to XXL → http://bit.ly/subscribe-xxl...  \n",
       "4  Transforming The LaBrant Family's empty white ...  "
      ]
     },
     "execution_count": 196,
     "metadata": {},
     "output_type": "execute_result"
    }
   ],
   "source": [
    "dfcust = df.drop('video_id', axis=1)\n",
    "dfcust1=dfcust.drop('publishedAt',axis=1)\n",
    "dfcust2=dfcust1.drop('channelId',axis=1)\n",
    "dfcust3=dfcust2.drop('channelTitle',axis=1)\n",
    "dfcust4=dfcust3.drop('categoryId',axis=1)\n",
    "dfcust5=dfcust4.drop('trending_date',axis=1)\n",
    "dfcust6=dfcust5.drop('view_count',axis=1)\n",
    "dfcust7=dfcust6.drop('likes',axis=1)\n",
    "dfcust8=dfcust7.drop('dislikes',axis=1)\n",
    "dfcust9=dfcust8.drop('comment_count',axis=1)\n",
    "dfcust10=dfcust9.drop('thumbnail_link',axis=1)\n",
    "dfcust11=dfcust10.drop('comments_disabled',axis=1)\n",
    "dfcust12=dfcust11.drop('ratings_disabled',axis=1)\n",
    "dfcust12.head()\n",
    "#dfcust13=dfcust12.drop('tags',axis=1)\n",
    "#dfcust14=dfcust13.drop('description',axis=1)\n",
    "#dfcust14.head()"
   ]
  },
  {
   "cell_type": "code",
   "execution_count": 197,
   "id": "e0bba307",
   "metadata": {},
   "outputs": [],
   "source": [
    "#dfcust12['tags'] = dfcust12['tags'].astype(float)\n",
    "#dfcust12['tags'] = pd.to_numeric(dfcust12['tags'],errors='coerce')\n",
    "#dfcust12['description'] = pd.to_numeric(dfcust12['description'],errors='coerce')"
   ]
  },
  {
   "cell_type": "code",
   "execution_count": 203,
   "id": "14876b4b",
   "metadata": {},
   "outputs": [
    {
     "name": "stdout",
     "output_type": "stream",
     "text": [
      "title          object\n",
      "tags           object\n",
      "description    object\n",
      "dtype: object\n"
     ]
    }
   ],
   "source": [
    "print(dfcust12.dtypes)"
   ]
  },
  {
   "cell_type": "code",
   "execution_count": 200,
   "id": "9cca40d0",
   "metadata": {
    "scrolled": true
   },
   "outputs": [],
   "source": [
    "#dfcust12[\"tags\"].replace(\"|\",\"\",inplace=True)\n",
    "#dfcust12[\"tags\"] = pd.to_numeric(dfcust12[\"tags\"])"
   ]
  },
  {
   "cell_type": "code",
   "execution_count": 202,
   "id": "0c18313c",
   "metadata": {
    "scrolled": true
   },
   "outputs": [],
   "source": [
    "#dfclust13[\"tags\"] = pd.to_numeric(dfclust13[\"tags\"], downcast=\"float\")\n",
    "#print(dfclust13.dtypes)"
   ]
  },
  {
   "cell_type": "code",
   "execution_count": 205,
   "id": "4786fbc3",
   "metadata": {},
   "outputs": [],
   "source": [
    "from sklearn.feature_extraction.text import TfidfVectorizer\n",
    "vectorizer = TfidfVectorizer(stop_words={'english'})\n",
    "X = vectorizer.fit_transform(dfcust12)"
   ]
  },
  {
   "cell_type": "code",
   "execution_count": 211,
   "id": "f92a7876",
   "metadata": {},
   "outputs": [
    {
     "ename": "ValueError",
     "evalue": "n_samples=3 should be >= n_clusters=4.",
     "output_type": "error",
     "traceback": [
      "\u001b[1;31m---------------------------------------------------------------------------\u001b[0m",
      "\u001b[1;31mValueError\u001b[0m                                Traceback (most recent call last)",
      "\u001b[1;32m~\\AppData\\Local\\Temp/ipykernel_38220/1757610476.py\u001b[0m in \u001b[0;36m<module>\u001b[1;34m\u001b[0m\n\u001b[0;32m      5\u001b[0m \u001b[1;32mfor\u001b[0m \u001b[0mk\u001b[0m \u001b[1;32min\u001b[0m \u001b[0mK\u001b[0m\u001b[1;33m:\u001b[0m\u001b[1;33m\u001b[0m\u001b[1;33m\u001b[0m\u001b[0m\n\u001b[0;32m      6\u001b[0m    \u001b[0mkm\u001b[0m \u001b[1;33m=\u001b[0m \u001b[0mKMeans\u001b[0m\u001b[1;33m(\u001b[0m\u001b[0mn_clusters\u001b[0m\u001b[1;33m=\u001b[0m\u001b[0mk\u001b[0m\u001b[1;33m,\u001b[0m \u001b[0mmax_iter\u001b[0m\u001b[1;33m=\u001b[0m\u001b[1;36m200\u001b[0m\u001b[1;33m,\u001b[0m \u001b[0mn_init\u001b[0m\u001b[1;33m=\u001b[0m\u001b[1;36m10\u001b[0m\u001b[1;33m)\u001b[0m\u001b[1;33m\u001b[0m\u001b[1;33m\u001b[0m\u001b[0m\n\u001b[1;32m----> 7\u001b[1;33m    \u001b[0mkm\u001b[0m \u001b[1;33m=\u001b[0m \u001b[0mkm\u001b[0m\u001b[1;33m.\u001b[0m\u001b[0mfit\u001b[0m\u001b[1;33m(\u001b[0m\u001b[0mX\u001b[0m\u001b[1;33m)\u001b[0m\u001b[1;33m\u001b[0m\u001b[1;33m\u001b[0m\u001b[0m\n\u001b[0m\u001b[0;32m      8\u001b[0m    \u001b[0mSum_of_squared_distances\u001b[0m\u001b[1;33m.\u001b[0m\u001b[0mappend\u001b[0m\u001b[1;33m(\u001b[0m\u001b[0mkm\u001b[0m\u001b[1;33m.\u001b[0m\u001b[0minertia_\u001b[0m\u001b[1;33m)\u001b[0m\u001b[1;33m\u001b[0m\u001b[1;33m\u001b[0m\u001b[0m\n\u001b[0;32m      9\u001b[0m \u001b[0mplt\u001b[0m\u001b[1;33m.\u001b[0m\u001b[0mplot\u001b[0m\u001b[1;33m(\u001b[0m\u001b[0mK\u001b[0m\u001b[1;33m,\u001b[0m \u001b[0mSum_of_squared_distances\u001b[0m\u001b[1;33m,\u001b[0m \u001b[1;34m'bx-'\u001b[0m\u001b[1;33m)\u001b[0m\u001b[1;33m\u001b[0m\u001b[1;33m\u001b[0m\u001b[0m\n",
      "\u001b[1;32m~\\anaconda3\\lib\\site-packages\\sklearn\\cluster\\_kmeans.py\u001b[0m in \u001b[0;36mfit\u001b[1;34m(self, X, y, sample_weight)\u001b[0m\n\u001b[0;32m    982\u001b[0m                                 accept_large_sparse=False)\n\u001b[0;32m    983\u001b[0m \u001b[1;33m\u001b[0m\u001b[0m\n\u001b[1;32m--> 984\u001b[1;33m         \u001b[0mself\u001b[0m\u001b[1;33m.\u001b[0m\u001b[0m_check_params\u001b[0m\u001b[1;33m(\u001b[0m\u001b[0mX\u001b[0m\u001b[1;33m)\u001b[0m\u001b[1;33m\u001b[0m\u001b[1;33m\u001b[0m\u001b[0m\n\u001b[0m\u001b[0;32m    985\u001b[0m         \u001b[0mrandom_state\u001b[0m \u001b[1;33m=\u001b[0m \u001b[0mcheck_random_state\u001b[0m\u001b[1;33m(\u001b[0m\u001b[0mself\u001b[0m\u001b[1;33m.\u001b[0m\u001b[0mrandom_state\u001b[0m\u001b[1;33m)\u001b[0m\u001b[1;33m\u001b[0m\u001b[1;33m\u001b[0m\u001b[0m\n\u001b[0;32m    986\u001b[0m         \u001b[0msample_weight\u001b[0m \u001b[1;33m=\u001b[0m \u001b[0m_check_sample_weight\u001b[0m\u001b[1;33m(\u001b[0m\u001b[0msample_weight\u001b[0m\u001b[1;33m,\u001b[0m \u001b[0mX\u001b[0m\u001b[1;33m,\u001b[0m \u001b[0mdtype\u001b[0m\u001b[1;33m=\u001b[0m\u001b[0mX\u001b[0m\u001b[1;33m.\u001b[0m\u001b[0mdtype\u001b[0m\u001b[1;33m)\u001b[0m\u001b[1;33m\u001b[0m\u001b[1;33m\u001b[0m\u001b[0m\n",
      "\u001b[1;32m~\\anaconda3\\lib\\site-packages\\sklearn\\cluster\\_kmeans.py\u001b[0m in \u001b[0;36m_check_params\u001b[1;34m(self, X)\u001b[0m\n\u001b[0;32m    810\u001b[0m         \u001b[1;31m# n_clusters\u001b[0m\u001b[1;33m\u001b[0m\u001b[1;33m\u001b[0m\u001b[0m\n\u001b[0;32m    811\u001b[0m         \u001b[1;32mif\u001b[0m \u001b[0mX\u001b[0m\u001b[1;33m.\u001b[0m\u001b[0mshape\u001b[0m\u001b[1;33m[\u001b[0m\u001b[1;36m0\u001b[0m\u001b[1;33m]\u001b[0m \u001b[1;33m<\u001b[0m \u001b[0mself\u001b[0m\u001b[1;33m.\u001b[0m\u001b[0mn_clusters\u001b[0m\u001b[1;33m:\u001b[0m\u001b[1;33m\u001b[0m\u001b[1;33m\u001b[0m\u001b[0m\n\u001b[1;32m--> 812\u001b[1;33m             raise ValueError(f\"n_samples={X.shape[0]} should be >= \"\n\u001b[0m\u001b[0;32m    813\u001b[0m                              f\"n_clusters={self.n_clusters}.\")\n\u001b[0;32m    814\u001b[0m \u001b[1;33m\u001b[0m\u001b[0m\n",
      "\u001b[1;31mValueError\u001b[0m: n_samples=3 should be >= n_clusters=4."
     ]
    }
   ],
   "source": [
    "import matplotlib.pyplot as plt\n",
    "from sklearn.cluster import KMeans\n",
    "Sum_of_squared_distances = []\n",
    "K = range(2,10)\n",
    "for k in K:\n",
    "   km = KMeans(n_clusters=k, max_iter=200, n_init=10)\n",
    "   km = km.fit(X)\n",
    "   Sum_of_squared_distances.append(km.inertia_)\n",
    "plt.plot(K, Sum_of_squared_distances, 'bx-')\n",
    "plt.xlabel('k')\n",
    "plt.ylabel('Sum_of_squared_distances')\n",
    "plt.title('Elbow Method For Optimal k')\n",
    "plt.show()"
   ]
  },
  {
   "cell_type": "code",
   "execution_count": 47,
   "id": "d96d5563",
   "metadata": {},
   "outputs": [],
   "source": [
    "import re\n",
    "import string\n",
    "import nltk\n",
    "\n",
    "import pandas as pd\n",
    "\n",
    "from collections import Counter\n",
    "from nltk.tokenize import word_tokenize\n",
    "from nltk.corpus import stopwords"
   ]
  },
  {
   "cell_type": "code",
   "execution_count": 48,
   "id": "8072f11d",
   "metadata": {},
   "outputs": [
    {
     "name": "stderr",
     "output_type": "stream",
     "text": [
      "[nltk_data] Downloading package punkt to\n",
      "[nltk_data]     C:\\Users\\ottoc\\AppData\\Roaming\\nltk_data...\n",
      "[nltk_data]   Package punkt is already up-to-date!\n",
      "[nltk_data] Downloading package stopwords to\n",
      "[nltk_data]     C:\\Users\\ottoc\\AppData\\Roaming\\nltk_data...\n",
      "[nltk_data]   Package stopwords is already up-to-date!\n"
     ]
    },
    {
     "data": {
      "text/plain": [
       "True"
      ]
     },
     "execution_count": 48,
     "metadata": {},
     "output_type": "execute_result"
    }
   ],
   "source": [
    "nltk.download('punkt')\n",
    "nltk.download('stopwords')"
   ]
  },
  {
   "cell_type": "code",
   "execution_count": 87,
   "id": "83bc344c",
   "metadata": {},
   "outputs": [],
   "source": [
    "STOP_WORDS = stopwords.words('english')"
   ]
  },
  {
   "cell_type": "code",
   "execution_count": 88,
   "id": "38af8ba2",
   "metadata": {},
   "outputs": [],
   "source": [
    "EMOJI_PATTERN = re.compile(\"[\"\n",
    "                           u\"\\U0001F600-\\U0001F64F\"  # emoticons\n",
    "                           u\"\\U0001F300-\\U0001F5FF\"  # symbols & pictographs\n",
    "                           u\"\\U0001F680-\\U0001F6FF\"  # transport & map symbols\n",
    "                           u\"\\U0001F1E0-\\U0001F1FF\"  # flags (iOS)\n",
    "                           u\"\\U00002702-\\U000027B0\"\n",
    "                           u\"\\U000024C2-\\U0001F251\"\n",
    "                           \"]+\", flags=re.UNICODE)"
   ]
  },
  {
   "cell_type": "code",
   "execution_count": 101,
   "id": "ade31d9a",
   "metadata": {},
   "outputs": [],
   "source": [
    "def cleaning(text):\n",
    "    text = text.lower()\n",
    "    text = re.sub('https?://\\S+|www\\.\\S+', ' ', text)\n",
    "    text = re.sub('<.*?>+', ' ', text)\n",
    "    text = re.sub('[%s]' % re.escape(string.punctuation), ' ', text)\n",
    "    text = re.sub('\\n', ' ', text)\n",
    "    text = re.sub('[’“”…]', ' ', text)\n",
    "    text = EMOJI_PATTERN.sub(r' ', text)\n",
    "    text_tokens = word_tokenize(text)\n",
    "    tokens_without_sw = [word for word in text_tokens if not word in STOP_WORDS]\n",
    "    filtered_sentence = (\" \").join(tokens_without_sw)\n",
    "    return text"
   ]
  },
  {
   "cell_type": "code",
   "execution_count": 102,
   "id": "4a9df875",
   "metadata": {},
   "outputs": [],
   "source": [
    "if __name__ == \"__main__\":\n",
    "    max_rows = 1000  # 'None' to read whole file\n",
    "    input_file = dfcust12"
   ]
  },
  {
   "cell_type": "code",
   "execution_count": 114,
   "id": "b00329b0",
   "metadata": {},
   "outputs": [
    {
     "name": "stdout",
     "output_type": "stream",
     "text": [
      "0         brawadis prank basketball skits ghost funny vi...\n",
      "1         apex legends apex legends characters new apex ...\n",
      "2         jacksepticeye funny funny meme memes jacksepti...\n",
      "3         xxl freshman xxl freshmen 2020 xxl freshman 20...\n",
      "4         the labrant family diy interior design makeove...\n",
      "                                ...                        \n",
      "106986                                                none \n",
      "106987         spacex space musk satellite mission starlink\n",
      "106988                                                none \n",
      "106989    fortnite fortnite battle royale competitive ga...\n",
      "106990    nle choppa nle nle choppa basketball basketbal...\n",
      "Name: tags, Length: 106991, dtype: object\n"
     ]
    }
   ],
   "source": [
    "print(dt)"
   ]
  },
  {
   "cell_type": "code",
   "execution_count": 133,
   "id": "c9bb7443",
   "metadata": {},
   "outputs": [],
   "source": [
    "dfcust12['tags'] = dfcust12['tags'].str.replace(' 2 ', ' ')\n",
    "dfcust12['tags'] = dfcust12['tags'].str.replace(' 5 ', ' ')\n",
    "dfcust12['tags'] = dfcust12['tags'].str.replace(' none ', ' ')\n",
    "dfcust12['tags'] = dfcust12['tags'].str.replace(' the ', ' ')\n",
    "dfcust12['tags'] = dfcust12['tags'].str.replace(' new ', ' ')\n",
    "dfcust12['tags'] = dfcust12['tags'].str.replace(' and ', ' ')\n",
    "dfcust12['tags'] = dfcust12['tags'].str.replace('none', ' ')\n",
    "dfcust12['tags'] = dfcust12['tags'].str.replace(' to ', ' ')\n",
    "dfcust12['tags'] = dfcust12['tags'].str.replace(' vs ', ' ')\n",
    "dfcust12['tags'] = dfcust12['tags'].str.replace(' of ', ' ')\n",
    "dfcust12['tags'] = dfcust12['tags'].str.replace(' in ', ' ')\n",
    "dfcust12['tags'] = dfcust12['tags'].str.replace(' a ', ' ')\n",
    "dfcust12['tags'] = dfcust12['tags'].str.replace(' us ', ' ')\n",
    "dfcust12['tags'] = dfcust12['tags'].str.replace(' i ', ' ')\n",
    "dfcust12['tags'] = dfcust12['tags'].str.replace(' s ', ' ')\n",
    "dfcust12['tags'] = dfcust12['tags'].str.replace(' new', ' ')"
   ]
  },
  {
   "cell_type": "code",
   "execution_count": 146,
   "id": "9bd8b904",
   "metadata": {},
   "outputs": [],
   "source": [
    "dt['tags'] = dfcust12['tags'].str.replace(' the ', ' ')\n",
    "dt['tags'] = dfcust12['tags'].str.replace('none', ' ')\n",
    "dt['tags'] = dfcust12['tags'].str.replace(' the', ' ')\n",
    "dt['tags'] = dfcust12['tags'].str.replace(' new ', ' ')\n",
    "dt['tags'] = dfcust12['tags'].str.replace(' s', ' ')\n",
    "dt['tags'] = dfcust12['tags'].str.replace(' how', ' ')"
   ]
  },
  {
   "cell_type": "code",
   "execution_count": 147,
   "id": "da7548e9",
   "metadata": {},
   "outputs": [],
   "source": [
    "dt = input_file['tags'].apply(cleaning)"
   ]
  },
  {
   "cell_type": "code",
   "execution_count": 172,
   "id": "73fc8fc4",
   "metadata": {},
   "outputs": [
    {
     "name": "stdout",
     "output_type": "stream",
     "text": [
      "          Word  Frequency\n",
      "0    minecraft      39859\n",
      "1          the      23640\n",
      "2        video      20740\n",
      "3         game      18319\n",
      "4        music      17052\n",
      "5         none      16767\n",
      "6        funny      16601\n",
      "7   highlights      16579\n",
      "8     fortnite      16242\n",
      "9          new      15757\n",
      "10           s      15719\n",
      "11        2021      13042\n",
      "12      season      11214\n",
      "13        2020      10903\n",
      "14     trailer      10430\n",
      "15       among       9909\n",
      "16         nba       9655\n",
      "17   challenge       9547\n",
      "18         how       9225\n",
      "19      family       9170\n"
     ]
    }
   ],
   "source": [
    "word_count = Counter(\" \".join(dt).split()).most_common(20)\n",
    "word_frequency = pd.DataFrame(word_count, columns = ['Word', 'Frequency'])\n",
    "print(word_frequency)"
   ]
  },
  {
   "cell_type": "code",
   "execution_count": null,
   "id": "88a1ece5",
   "metadata": {},
   "outputs": [],
   "source": [
    "#4/20: Use the new wordcloud to sort tags\n",
    "#4/22: Have Report Near Finish\n",
    "#4/24: Work On Poster\n",
    "#4/26: Final Presentation, Poster, and Report"
   ]
  },
  {
   "cell_type": "code",
   "execution_count": 22,
   "id": "5dee601d",
   "metadata": {},
   "outputs": [
    {
     "name": "stdout",
     "output_type": "stream",
     "text": [
      "KFold(n_splits=2, random_state=None, shuffle=False)\n",
      "TRAIN: [ 53496  53497  53498 ... 106988 106989 106990] TEST: [    0     1     2 ... 53493 53494 53495]\n"
     ]
    },
    {
     "ename": "TypeError",
     "evalue": "only integer scalar arrays can be converted to a scalar index",
     "output_type": "error",
     "traceback": [
      "\u001b[1;31m---------------------------------------------------------------------------\u001b[0m",
      "\u001b[1;31mTypeError\u001b[0m                                 Traceback (most recent call last)",
      "\u001b[1;32m~\\AppData\\Local\\Temp/ipykernel_10484/1550672398.py\u001b[0m in \u001b[0;36m<module>\u001b[1;34m\u001b[0m\n\u001b[0;32m      7\u001b[0m     \u001b[0mprint\u001b[0m\u001b[1;33m(\u001b[0m\u001b[1;34m\"TRAIN:\"\u001b[0m\u001b[1;33m,\u001b[0m \u001b[0mtrain_index\u001b[0m\u001b[1;33m,\u001b[0m \u001b[1;34m\"TEST:\"\u001b[0m\u001b[1;33m,\u001b[0m \u001b[0mtest_index\u001b[0m\u001b[1;33m)\u001b[0m\u001b[1;33m\u001b[0m\u001b[1;33m\u001b[0m\u001b[0m\n\u001b[0;32m      8\u001b[0m     \u001b[0mX_train\u001b[0m\u001b[1;33m,\u001b[0m \u001b[0mX_test\u001b[0m \u001b[1;33m=\u001b[0m \u001b[0mX\u001b[0m\u001b[1;33m[\u001b[0m\u001b[0mtrain_index\u001b[0m\u001b[1;33m]\u001b[0m\u001b[1;33m,\u001b[0m \u001b[0mX\u001b[0m\u001b[1;33m[\u001b[0m\u001b[0mtest_index\u001b[0m\u001b[1;33m]\u001b[0m\u001b[1;33m\u001b[0m\u001b[1;33m\u001b[0m\u001b[0m\n\u001b[1;32m----> 9\u001b[1;33m     \u001b[0my_train\u001b[0m\u001b[1;33m,\u001b[0m \u001b[0my_test\u001b[0m \u001b[1;33m=\u001b[0m \u001b[0my\u001b[0m\u001b[1;33m[\u001b[0m\u001b[0mtrain_index\u001b[0m\u001b[1;33m]\u001b[0m\u001b[1;33m,\u001b[0m \u001b[0my\u001b[0m\u001b[1;33m[\u001b[0m\u001b[0mtest_index\u001b[0m\u001b[1;33m]\u001b[0m\u001b[1;33m\u001b[0m\u001b[1;33m\u001b[0m\u001b[0m\n\u001b[0m",
      "\u001b[1;31mTypeError\u001b[0m: only integer scalar arrays can be converted to a scalar index"
     ]
    }
   ],
   "source": [
    "x=np.array=('likes','dislikes')\n",
    "y=np.array=('view_count','comment_count')\n",
    "kf = KFold(n_splits=2)\n",
    "kf.get_n_splits(X)\n",
    "print(kf)\n",
    "for train_index, test_index in kf.split(X):\n",
    "    print(\"TRAIN:\", train_index, \"TEST:\", test_index)\n",
    "    X_train, X_test = X[train_index], X[test_index]\n",
    "    y_train, y_test = y[train_index], y[test_index]"
   ]
  },
  {
   "cell_type": "code",
   "execution_count": null,
   "id": "1e55a335",
   "metadata": {},
   "outputs": [],
   "source": [
    "association_rules = apriori(records, min_support=0.0045, min_confidence=0.2, min_lift=3, min_length=2)  \n",
    "association_results = list(association_rules)  "
   ]
  },
  {
   "cell_type": "code",
   "execution_count": null,
   "id": "8982726c",
   "metadata": {},
   "outputs": [],
   "source": [
    "print(len(association_results))"
   ]
  },
  {
   "cell_type": "code",
   "execution_count": null,
   "id": "e27a372a",
   "metadata": {},
   "outputs": [],
   "source": [
    "print(association_results[0])"
   ]
  },
  {
   "cell_type": "code",
   "execution_count": null,
   "id": "0f42bbf2",
   "metadata": {},
   "outputs": [],
   "source": [
    "for item in association_results:\n",
    "\n",
    "    # first index of the inner list\n",
    "    # Contains base item and add item\n",
    "    pair = item[0] \n",
    "    items = [x for x in pair]\n",
    "    print(\"Rule: \" + items[0] + \" -> \" + items[1])\n",
    "\n",
    "    #second index of the inner list\n",
    "    print(\"Support: \" + str(item[1]))\n",
    "\n",
    "    #third index of the list located at 0th\n",
    "    #of the third index of the inner list\n",
    "\n",
    "    print(\"Confidence: \" + str(item[2][0][2]))\n",
    "    print(\"Lift: \" + str(item[2][0][3]))\n",
    "    print(\"=====================================\")"
   ]
  },
  {
   "cell_type": "code",
   "execution_count": 17,
   "id": "63247dc3",
   "metadata": {
    "scrolled": true
   },
   "outputs": [
    {
     "name": "stdout",
     "output_type": "stream",
     "text": [
      "88135796\n",
      "range(0, 264407389, 88135796)\n"
     ]
    },
    {
     "ename": "TypeError",
     "evalue": "'<' not supported between instances of 'int' and 'str'",
     "output_type": "error",
     "traceback": [
      "\u001b[1;31m---------------------------------------------------------------------------\u001b[0m",
      "\u001b[1;31mTypeError\u001b[0m                                 Traceback (most recent call last)",
      "\u001b[1;32m~\\AppData\\Local\\Temp/ipykernel_8448/1155001922.py\u001b[0m in \u001b[0;36m<module>\u001b[1;34m\u001b[0m\n\u001b[0;32m      8\u001b[0m \u001b[0mlikes_groups\u001b[0m\u001b[1;33m=\u001b[0m\u001b[0mnp\u001b[0m\u001b[1;33m.\u001b[0m\u001b[0marray\u001b[0m\u001b[1;33m(\u001b[0m\u001b[1;33m[\u001b[0m\u001b[1;34m'low'\u001b[0m\u001b[1;33m,\u001b[0m \u001b[1;34m'medium'\u001b[0m\u001b[1;33m,\u001b[0m \u001b[1;34m'high'\u001b[0m\u001b[1;33m]\u001b[0m\u001b[1;33m)\u001b[0m\u001b[1;33m\u001b[0m\u001b[1;33m\u001b[0m\u001b[0m\n\u001b[0;32m      9\u001b[0m \u001b[1;31m#we create a column similar to the one with the group price of a car.\u001b[0m\u001b[1;33m\u001b[0m\u001b[1;33m\u001b[0m\u001b[0m\n\u001b[1;32m---> 10\u001b[1;33m \u001b[0mdf\u001b[0m\u001b[1;33m[\u001b[0m\u001b[1;34m\"likes\"\u001b[0m\u001b[1;33m]\u001b[0m\u001b[1;33m=\u001b[0m\u001b[0mpd\u001b[0m\u001b[1;33m.\u001b[0m\u001b[0mcut\u001b[0m\u001b[1;33m(\u001b[0m\u001b[0mdf\u001b[0m\u001b[1;33m[\u001b[0m\u001b[1;34m\"likes\"\u001b[0m\u001b[1;33m]\u001b[0m\u001b[1;33m,\u001b[0m\u001b[0mbins\u001b[0m\u001b[1;33m=\u001b[0m\u001b[0mbins\u001b[0m\u001b[1;33m,\u001b[0m \u001b[0mlabels\u001b[0m\u001b[1;33m=\u001b[0m\u001b[0mlikes_groups\u001b[0m\u001b[1;33m)\u001b[0m\u001b[1;33m\u001b[0m\u001b[1;33m\u001b[0m\u001b[0m\n\u001b[0m\u001b[0;32m     11\u001b[0m \u001b[0mprint\u001b[0m\u001b[1;33m(\u001b[0m\u001b[0mdf\u001b[0m\u001b[1;33m[\u001b[0m\u001b[1;33m[\u001b[0m\u001b[1;34m'likes'\u001b[0m\u001b[1;33m,\u001b[0m\u001b[1;34m'view_count'\u001b[0m\u001b[1;33m]\u001b[0m\u001b[1;33m]\u001b[0m\u001b[1;33m)\u001b[0m\u001b[1;33m\u001b[0m\u001b[1;33m\u001b[0m\u001b[0m\n\u001b[0;32m     12\u001b[0m \u001b[1;31m# draw historgram of attribute \"horsepower\" with bins = 3\u001b[0m\u001b[1;33m\u001b[0m\u001b[1;33m\u001b[0m\u001b[0m\n",
      "\u001b[1;32m~\\anaconda3\\lib\\site-packages\\pandas\\core\\reshape\\tile.py\u001b[0m in \u001b[0;36mcut\u001b[1;34m(x, bins, right, labels, retbins, precision, include_lowest, duplicates, ordered)\u001b[0m\n\u001b[0;32m    285\u001b[0m             \u001b[1;32mraise\u001b[0m \u001b[0mValueError\u001b[0m\u001b[1;33m(\u001b[0m\u001b[1;34m\"bins must increase monotonically.\"\u001b[0m\u001b[1;33m)\u001b[0m\u001b[1;33m\u001b[0m\u001b[1;33m\u001b[0m\u001b[0m\n\u001b[0;32m    286\u001b[0m \u001b[1;33m\u001b[0m\u001b[0m\n\u001b[1;32m--> 287\u001b[1;33m     fac, bins = _bins_to_cuts(\n\u001b[0m\u001b[0;32m    288\u001b[0m         \u001b[0mx\u001b[0m\u001b[1;33m,\u001b[0m\u001b[1;33m\u001b[0m\u001b[1;33m\u001b[0m\u001b[0m\n\u001b[0;32m    289\u001b[0m         \u001b[0mbins\u001b[0m\u001b[1;33m,\u001b[0m\u001b[1;33m\u001b[0m\u001b[1;33m\u001b[0m\u001b[0m\n",
      "\u001b[1;32m~\\anaconda3\\lib\\site-packages\\pandas\\core\\reshape\\tile.py\u001b[0m in \u001b[0;36m_bins_to_cuts\u001b[1;34m(x, bins, right, labels, precision, include_lowest, dtype, duplicates, ordered)\u001b[0m\n\u001b[0;32m    419\u001b[0m \u001b[1;33m\u001b[0m\u001b[0m\n\u001b[0;32m    420\u001b[0m     \u001b[0mside\u001b[0m \u001b[1;33m=\u001b[0m \u001b[1;34m\"left\"\u001b[0m \u001b[1;32mif\u001b[0m \u001b[0mright\u001b[0m \u001b[1;32melse\u001b[0m \u001b[1;34m\"right\"\u001b[0m\u001b[1;33m\u001b[0m\u001b[1;33m\u001b[0m\u001b[0m\n\u001b[1;32m--> 421\u001b[1;33m     \u001b[0mids\u001b[0m \u001b[1;33m=\u001b[0m \u001b[0mensure_platform_int\u001b[0m\u001b[1;33m(\u001b[0m\u001b[0mbins\u001b[0m\u001b[1;33m.\u001b[0m\u001b[0msearchsorted\u001b[0m\u001b[1;33m(\u001b[0m\u001b[0mx\u001b[0m\u001b[1;33m,\u001b[0m \u001b[0mside\u001b[0m\u001b[1;33m=\u001b[0m\u001b[0mside\u001b[0m\u001b[1;33m)\u001b[0m\u001b[1;33m)\u001b[0m\u001b[1;33m\u001b[0m\u001b[1;33m\u001b[0m\u001b[0m\n\u001b[0m\u001b[0;32m    422\u001b[0m \u001b[1;33m\u001b[0m\u001b[0m\n\u001b[0;32m    423\u001b[0m     \u001b[1;32mif\u001b[0m \u001b[0minclude_lowest\u001b[0m\u001b[1;33m:\u001b[0m\u001b[1;33m\u001b[0m\u001b[1;33m\u001b[0m\u001b[0m\n",
      "\u001b[1;31mTypeError\u001b[0m: '<' not supported between instances of 'int' and 'str'"
     ]
    }
   ],
   "source": [
    "df[\"view_count\"]=df[\"view_count\"].astype('int')\n",
    "binwidth=int((max(df[\"view_count\"])-min(df[\"view_count\"]))/3)\n",
    "print(binwidth)\n",
    "#we build the bin array, from min value to max value, using bin width calculated above.\n",
    "bins=range(min(df[\"view_count\"]),max(df[\"view_count\"]),binwidth)\n",
    "print(bins)\n",
    "#we create labels for each bin: “Low”, “Medium” and “High”.\n",
    "likes_groups=np.array(['low', 'medium', 'high'])\n",
    "#we create a column similar to the one with the group price of a car.\n",
    "df[\"likes\"]=pd.cut(df[\"likes\"],bins=bins, labels=likes_groups)\n",
    "print(df[['likes','view_count']])\n",
    "# draw historgram of attribute \"horsepower\" with bins = 3\n",
    "plt.pyplot.hist(df[\"view_count\"], bins = 3)\n",
    "# set x/y labels and plot title\n",
    "plt.pyplot.xlabel(\"View Count\")\n",
    "plt.pyplot.ylabel(\"Likes\")\n",
    "plt.pyplot.title(\"View Count to Likes\")"
   ]
  }
 ],
 "metadata": {
  "kernelspec": {
   "display_name": "Python 3 (ipykernel)",
   "language": "python",
   "name": "python3"
  },
  "language_info": {
   "codemirror_mode": {
    "name": "ipython",
    "version": 3
   },
   "file_extension": ".py",
   "mimetype": "text/x-python",
   "name": "python",
   "nbconvert_exporter": "python",
   "pygments_lexer": "ipython3",
   "version": "3.9.7"
  }
 },
 "nbformat": 4,
 "nbformat_minor": 5
}
